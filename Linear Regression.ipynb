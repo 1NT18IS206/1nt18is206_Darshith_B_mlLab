{
 "cells": [
  {
   "cell_type": "code",
   "execution_count": 1,
   "metadata": {},
   "outputs": [],
   "source": [
    "import pandas as pd\n",
    "from matplotlib import pyplot as plt\n",
    "import numpy as np"
   ]
  },
  {
   "cell_type": "code",
   "execution_count": 2,
   "metadata": {},
   "outputs": [],
   "source": [
    "df = pd.read_csv(\"Food-Truck-LineReg.csv\", header = None)"
   ]
  },
  {
   "cell_type": "code",
   "execution_count": 3,
   "metadata": {},
   "outputs": [
    {
     "data": {
      "text/html": [
       "<div>\n",
       "<style scoped>\n",
       "    .dataframe tbody tr th:only-of-type {\n",
       "        vertical-align: middle;\n",
       "    }\n",
       "\n",
       "    .dataframe tbody tr th {\n",
       "        vertical-align: top;\n",
       "    }\n",
       "\n",
       "    .dataframe thead th {\n",
       "        text-align: right;\n",
       "    }\n",
       "</style>\n",
       "<table border=\"1\" class=\"dataframe\">\n",
       "  <thead>\n",
       "    <tr style=\"text-align: right;\">\n",
       "      <th></th>\n",
       "      <th>0</th>\n",
       "      <th>1</th>\n",
       "    </tr>\n",
       "  </thead>\n",
       "  <tbody>\n",
       "    <tr>\n",
       "      <th>0</th>\n",
       "      <td>6.1101</td>\n",
       "      <td>17.5920</td>\n",
       "    </tr>\n",
       "    <tr>\n",
       "      <th>1</th>\n",
       "      <td>5.5277</td>\n",
       "      <td>9.1302</td>\n",
       "    </tr>\n",
       "    <tr>\n",
       "      <th>2</th>\n",
       "      <td>8.5186</td>\n",
       "      <td>13.6620</td>\n",
       "    </tr>\n",
       "    <tr>\n",
       "      <th>3</th>\n",
       "      <td>7.0032</td>\n",
       "      <td>11.8540</td>\n",
       "    </tr>\n",
       "    <tr>\n",
       "      <th>4</th>\n",
       "      <td>5.8598</td>\n",
       "      <td>6.8233</td>\n",
       "    </tr>\n",
       "  </tbody>\n",
       "</table>\n",
       "</div>"
      ],
      "text/plain": [
       "        0        1\n",
       "0  6.1101  17.5920\n",
       "1  5.5277   9.1302\n",
       "2  8.5186  13.6620\n",
       "3  7.0032  11.8540\n",
       "4  5.8598   6.8233"
      ]
     },
     "execution_count": 3,
     "metadata": {},
     "output_type": "execute_result"
    }
   ],
   "source": [
    "df.head()"
   ]
  },
  {
   "cell_type": "code",
   "execution_count": 4,
   "metadata": {},
   "outputs": [],
   "source": [
    "X = df.iloc[:,0].tolist()"
   ]
  },
  {
   "cell_type": "code",
   "execution_count": 5,
   "metadata": {},
   "outputs": [],
   "source": [
    "Y = df.iloc[:,1].tolist()"
   ]
  },
  {
   "cell_type": "code",
   "execution_count": 6,
   "metadata": {},
   "outputs": [],
   "source": [
    "from sklearn.model_selection import train_test_split\n",
    "\n",
    "x, x_test, y, y_test = train_test_split(X, Y, test_size = 0.2, random_state = 111)"
   ]
  },
  {
   "cell_type": "code",
   "execution_count": 39,
   "metadata": {},
   "outputs": [
    {
     "name": "stdout",
     "output_type": "stream",
     "text": [
      "65.98055231722078 65.9805523172208\n"
     ]
    }
   ],
   "source": [
    "x_sum = 0\n",
    "y_sum = 0\n",
    "x_sum_sq = 0\n",
    "y_sum_sq = 0\n",
    "xy_sum = 0\n",
    "n = len(x)\n",
    "xy = [None] * n\n",
    "for i in range(n):\n",
    "    x_sum += x[i]\n",
    "    y_sum += y[i]\n",
    "    x_sum_sq += ( x[i] ** 2 )\n",
    "    y_sum_sq += ( y[i] ** 2 )\n",
    "    xy_sum += ( x[i] * y[i] )\n",
    "    xy[i] = x[i] * y[i]\n",
    "x_mean = ( x_sum / n )\n",
    "y_mean = ( y_sum / n )\n",
    "xy_mean = xy_sum / n\n",
    "\n",
    "print(xy_mean, np.mean(xy))"
   ]
  },
  {
   "cell_type": "code",
   "execution_count": 8,
   "metadata": {},
   "outputs": [],
   "source": [
    "x_std = 0\n",
    "y_std = 0\n",
    "for i in range(n):\n",
    "    x_std += ( ( x[i] - x_mean ) ** 2 )\n",
    "    y_std += ( ( y[i] - y_mean ) ** 2 )\n",
    "x_std = ( x_std / n ) ** (1/2)\n",
    "y_std = ( y_std / n ) ** (1/2)\n"
   ]
  },
  {
   "cell_type": "code",
   "execution_count": 9,
   "metadata": {},
   "outputs": [],
   "source": [
    "r = (xy_sum) / (x_sum_sq * y_sum_sq)"
   ]
  },
  {
   "cell_type": "code",
   "execution_count": 40,
   "metadata": {},
   "outputs": [
    {
     "name": "stdout",
     "output_type": "stream",
     "text": [
      "-9.247776885990387\n"
     ]
    }
   ],
   "source": [
    "m = r * ( y_std / x_std )\n",
    "m = ( (x_mean * y_mean) - (xy_mean) ) / ( (x_mean ** 2) - (xy_mean) )\n",
    "#m = ((np.mean(x) * np.mean(y)) - np.mean(x*y)) / ((np.mean(x)**2) - np.mean(x*y))\n",
    "print(m)"
   ]
  },
  {
   "cell_type": "code",
   "execution_count": 29,
   "metadata": {},
   "outputs": [
    {
     "name": "stdout",
     "output_type": "stream",
     "text": [
      "82.1662124608152\n"
     ]
    }
   ],
   "source": [
    "c = y_mean - ( m * x_mean )\n",
    "print(c)"
   ]
  },
  {
   "cell_type": "code",
   "execution_count": 12,
   "metadata": {},
   "outputs": [],
   "source": [
    "nt = len(x_test)\n",
    "y_pred = [None] * nt\n",
    "    \n",
    "for i in range(nt):\n",
    "    y_pred[i] = (m * x_test[i] + c)"
   ]
  },
  {
   "cell_type": "code",
   "execution_count": 13,
   "metadata": {},
   "outputs": [
    {
     "name": "stdout",
     "output_type": "stream",
     "text": [
      "[3.5129, 4.9981, 6.7318, 5.3048, 0.92695, 3.1386, 1.9869, 0.152, 2.0576, 4.1164, 5.1337, -2.6807, 22.638, 5.1875, 1.0173, 13.501, -0.74279, -1.4211, 17.054000000000002, 6.7526] [6.064685168557316, 6.065189665865029, 6.065239940903654, 6.064908865254445, 6.064826419636051, 6.064868867559005, 6.064668379961386, 6.064717157638752, 6.064623527185502, 6.06530146883901, 6.064615019451077, 6.064605195853728, 6.067762835813471, 6.064899949148769, 6.064712393307474, 6.066375054174185, 6.064639771286429, 6.064907390580478, 6.067766012034323, 6.065795620741663]\n"
     ]
    }
   ],
   "source": [
    "sse = 0\n",
    "sst = 0\n",
    "ssr = 0\n",
    "y_test_mean = 0\n",
    "for i in range(nt):\n",
    "    y_test_mean += y_test[i]\n",
    "y_test_mean = y_test_mean / nt\n",
    "for i in range(nt):\n",
    "    sse += ( ( y_test[i] - y_pred[i] ) ** 2 )\n",
    "    sst += ( ( y_test[i] - y_test_mean ) ** 2 )\n",
    "    ssr += ( ( y_pred[i] - y_test_mean ) ** 2 )\n",
    "mse = sse / n\n",
    "r_sq = 1 - ( sse / sst )\n",
    "print(y_test, y_pred)"
   ]
  },
  {
   "cell_type": "code",
   "execution_count": 14,
   "metadata": {},
   "outputs": [
    {
     "name": "stdout",
     "output_type": "stream",
     "text": [
      "Cost: 772.0660731990457\n",
      "SSE: 772.0660731990457\n",
      "SSR: 24.06720757526167\n",
      "SST: 748.2130808609202\n",
      "R^2: -0.03187994563083474\n"
     ]
    }
   ],
   "source": [
    "print(\"Cost:\", sse)\n",
    "print(\"SSE:\", sse)\n",
    "print(\"SSR:\", ssr)\n",
    "print(\"SST:\", sst)\n",
    "print(\"R^2:\", r_sq)"
   ]
  },
  {
   "cell_type": "code",
   "execution_count": 15,
   "metadata": {},
   "outputs": [
    {
     "data": {
      "image/png": "[encoded data removed]",
      "text/plain": [
       "<Figure size 432x288 with 1 Axes>"
      ]
     },
     "metadata": {
      "needs_background": "light"
     },
     "output_type": "display_data"
    }
   ],
   "source": [
    "plt.scatter(x_test,y_test,color = \"blue\")\n",
    "plt.plot(x_test,y_pred, color=\"red\")\n",
    "plt.show()"
   ]
  },
  {
   "cell_type": "code",
   "execution_count": 21,
   "metadata": {},
   "outputs": [
    {
     "name": "stdout",
     "output_type": "stream",
     "text": [
      "-3.259733238113534\n",
      "[1.13318163]\n"
     ]
    }
   ],
   "source": [
    "from sklearn.linear_model import LinearRegression\n",
    "import numpy as np\n",
    "reg = LinearRegression()\n",
    "x_arr = np.array(x)\n",
    "y_arr = np.array(y)\n",
    "reg.fit(x_arr.reshape(-1,1), y_arr)\n",
    "print(reg.intercept_)\n",
    "print(reg.coef_)"
   ]
  },
  {
   "cell_type": "code",
   "execution_count": 23,
   "metadata": {},
   "outputs": [],
   "source": [
    "pred_y = reg.predict(np.array(x_test).reshape(-1,1))"
   ]
  },
  {
   "cell_type": "code",
   "execution_count": 24,
   "metadata": {},
   "outputs": [
    {
     "data": {
      "image/png": "[encoded data removed]",
      "text/plain": [
       "<Figure size 432x288 with 1 Axes>"
      ]
     },
     "metadata": {
      "needs_background": "light"
     },
     "output_type": "display_data"
    }
   ],
   "source": [
    "plt.scatter(x_test,y_test,color = \"blue\")\n",
    "plt.plot(x_test,pred_y, color=\"red\")\n",
    "plt.show()"
   ]
  },
  {
   "cell_type": "code",
   "execution_count": null,
   "metadata": {},
   "outputs": [],
   "source": []
  }
 ],
 "metadata": {
  "kernelspec": {
   "display_name": "Python 3",
   "language": "python",
   "name": "python3"
  },
  "language_info": {
   "codemirror_mode": {
    "name": "ipython",
    "version": 3
   },
   "file_extension": ".py",
   "mimetype": "text/x-python",
   "name": "python",
   "nbconvert_exporter": "python",
   "pygments_lexer": "ipython3",
   "version": "3.8.5"
  }
 },
 "nbformat": 4,
 "nbformat_minor": 4
}
