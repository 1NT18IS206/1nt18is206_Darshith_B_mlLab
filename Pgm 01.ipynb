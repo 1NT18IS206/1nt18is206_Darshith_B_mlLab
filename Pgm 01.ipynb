{
 "cells": [
  {
   "cell_type": "markdown",
   "metadata": {},
   "source": [
    "# Calculator"
   ]
  },
  {
   "cell_type": "code",
   "execution_count": 1,
   "metadata": {
    "scrolled": true
   },
   "outputs": [
    {
     "name": "stdout",
     "output_type": "stream",
     "text": [
      "Enter operand 1\t2\n",
      "Enter operand 2\t2\n",
      "Options\n",
      "1.Sum\n",
      "2.Subtract\n",
      "3.Multiply\n",
      "4.Divide\n",
      "5.Exit\n",
      "5\n",
      "Exiting...\n"
     ]
    }
   ],
   "source": [
    "a = int(input(\"Enter operand 1\\t\"))\n",
    "b = int(input(\"Enter operand 2\\t\"))\n",
    "print(\"Options\\n1.Sum\\n2.Subtract\\n3.Multiply\\n4.Divide\\n5.Exit\")\n",
    "x = input()\n",
    "if x == \"1\":\n",
    "    print(a + b)\n",
    "elif x == \"2\":\n",
    "    print(a-b)\n",
    "elif x == \"3\":\n",
    "    print(a*b)\n",
    "elif x == \"4\":\n",
    "    print(a/b)\n",
    "elif x == \"5\":\n",
    "    print(\"Exiting...\")\n",
    "else:\n",
    "    print(\"Invalid Input\")"
   ]
  },
  {
   "cell_type": "markdown",
   "metadata": {},
   "source": [
    "# Bubble Sort"
   ]
  },
  {
   "cell_type": "code",
   "execution_count": 15,
   "metadata": {
    "scrolled": false
   },
   "outputs": [
    {
     "data": {
      "text/plain": [
       "[11.2, 90.4, 105.6, 110.9, 115.3, 116.3, 120.5, 122.3, 125.4, 195.5]"
      ]
     },
     "execution_count": 15,
     "metadata": {},
     "output_type": "execute_result"
    }
   ],
   "source": [
    "l1 = [115.3,195.5,120.5,11.2,90.4,105.6,110.9,116.3,122.3,125.4]\n",
    "for i in range(0,len(l1)):\n",
    "    for j in range(i,len(l1)):\n",
    "        if l1[i] > l1[j]:\n",
    "            temp = l1[i]\n",
    "            l1[i] = l1[j]\n",
    "            l1[j] = temp\n",
    "l1"
   ]
  },
  {
   "cell_type": "markdown",
   "metadata": {},
   "source": [
    "# Mean, Median, Mode"
   ]
  },
  {
   "cell_type": "code",
   "execution_count": 16,
   "metadata": {},
   "outputs": [
    {
     "name": "stdout",
     "output_type": "stream",
     "text": [
      "Mean:  111.34\n"
     ]
    }
   ],
   "source": [
    "avg = sum(l1) / len(l1)\n",
    "print(\"Mean: \", avg)"
   ]
  },
  {
   "cell_type": "code",
   "execution_count": 17,
   "metadata": {},
   "outputs": [
    {
     "data": {
      "text/plain": [
       "115.8"
      ]
     },
     "execution_count": 17,
     "metadata": {},
     "output_type": "execute_result"
    }
   ],
   "source": [
    "l = len(l1)\n",
    "\n",
    "if l%2 !=0:\n",
    "    median = l1[int((l + 1)/2) - 1]\n",
    "else:\n",
    "    median = (l1[int(l/2) - 1] + l1[int(l/2 + 1) - 1]) / 2\n",
    "median"
   ]
  },
  {
   "cell_type": "code",
   "execution_count": 18,
   "metadata": {
    "scrolled": true
   },
   "outputs": [
    {
     "data": {
      "text/plain": [
       "11.2"
      ]
     },
     "execution_count": 18,
     "metadata": {},
     "output_type": "execute_result"
    }
   ],
   "source": [
    "count = {}\n",
    "m = 0\n",
    "for i in range(0,len(l1)):\n",
    "    if l1[i] not in count:\n",
    "        count[l1[i]] = 1\n",
    "    else:\n",
    "        count[l1[i]] += 1\n",
    "    if m < count[l1[i]]:\n",
    "        m = count[l1[i]]\n",
    "        mode = l1[i]\n",
    "mode"
   ]
  },
  {
   "cell_type": "markdown",
   "metadata": {},
   "source": [
    "# Standard Deviation and Variance"
   ]
  },
  {
   "cell_type": "code",
   "execution_count": 19,
   "metadata": {},
   "outputs": [
    {
     "name": "stdout",
     "output_type": "stream",
     "text": [
      "Variance:  1802.4543999999999\n",
      "Standard Deviation:  42.4553223989643\n"
     ]
    }
   ],
   "source": [
    "y = []\n",
    "for i in range(0,len(l1)):\n",
    "    y.append((l1[i] - avg) ** 2)\n",
    "var = sum(y) / len(l1)\n",
    "sd = (var) ** (1/2)\n",
    "print(\"Variance: \", var)\n",
    "print(\"Standard Deviation: \", sd)"
   ]
  },
  {
   "cell_type": "markdown",
   "metadata": {},
   "source": [
    "## Min Max Normalization"
   ]
  },
  {
   "cell_type": "code",
   "execution_count": 20,
   "metadata": {},
   "outputs": [
    {
     "name": "stdout",
     "output_type": "stream",
     "text": [
      "Normalized List:  [0.0, 0.42973412913727616, 0.5122083559413998, 0.5409658166033641, 0.5648399348887683, 0.5702658708627237, 0.5930548019533369, 0.6028214867064567, 0.6196418882257189, 1.0]\n"
     ]
    }
   ],
   "source": [
    "mi = min(l1)\n",
    "ma = max(l1)\n",
    "z = []\n",
    "for i in range(0,len(l1)):\n",
    "    z.append( ( (l1[i] - mi) / (ma - mi) ) )\n",
    "\n",
    "print(\"Normalized List: \", z)"
   ]
  },
  {
   "cell_type": "markdown",
   "metadata": {},
   "source": [
    "## Standardization "
   ]
  },
  {
   "cell_type": "code",
   "execution_count": 22,
   "metadata": {},
   "outputs": [
    {
     "name": "stdout",
     "output_type": "stream",
     "text": [
      "Normalized List:  [-2.3587148640388826, -0.49322437839998196, -0.13520095186322356, -0.010363836031327171, 0.09327452428194488, 0.11682869708041585, 0.21575622283399395, 0.25815373387124163, 0.33117166954650185, 1.9823191827193165]\n"
     ]
    }
   ],
   "source": [
    "z = []\n",
    "for i in range(0,len(l1)):\n",
    "    z.append( ( (l1[i] - avg) / (sd) ) )\n",
    "print(\"Normalized List: \", z)"
   ]
  },
  {
   "cell_type": "code",
   "execution_count": null,
   "metadata": {},
   "outputs": [],
   "source": []
  }
 ],
 "metadata": {
  "kernelspec": {
   "display_name": "Python 3",
   "language": "python",
   "name": "python3"
  },
  "language_info": {
   "codemirror_mode": {
    "name": "ipython",
    "version": 3
   },
   "file_extension": ".py",
   "mimetype": "text/x-python",
   "name": "python",
   "nbconvert_exporter": "python",
   "pygments_lexer": "ipython3",
   "version": "3.8.5"
  }
 },
 "nbformat": 4,
 "nbformat_minor": 4
}
